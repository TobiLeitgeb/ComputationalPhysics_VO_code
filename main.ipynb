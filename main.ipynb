{
 "cells": [
  {
   "cell_type": "code",
   "execution_count": 2,
   "metadata": {},
   "outputs": [],
   "source": [
    "from bessel import bessel_roots, J_lx, miller_downward_recursion, J_lx_old, derivative_J, dJ_lx_old\n",
    "import numpy as np\n",
    "import matplotlib.pyplot as plt\n",
    "import scipy.special as sp\n",
    "import numba as nb"
   ]
  },
  {
   "cell_type": "markdown",
   "metadata": {},
   "source": [
    "## First step   \n",
    "Compute the roots of the spherical bessel-functions $j_l(x)$, l $\\in$ [0,...,100] and x $\\in$ [0,...,100]"
   ]
  },
  {
   "cell_type": "code",
   "execution_count": 3,
   "metadata": {},
   "outputs": [],
   "source": [
    "n_roots = 10 # index i \n",
    "l_max = 100\n",
    "roots_li = bessel_roots(l_max, n_roots,scipy = False)\n",
    "\n"
   ]
  },
  {
   "cell_type": "code",
   "execution_count": 5,
   "metadata": {},
   "outputs": [
    {
     "data": {
      "text/plain": [
       "array([[ 3.14159265,  6.28318531,  9.42477796, ..., 25.13274123,\n",
       "        28.27433388, 31.41592654],\n",
       "       [ 4.49340946,  7.72525184, 10.90412166, ..., 26.66605426,\n",
       "        29.81159879, 32.95638904],\n",
       "       [ 5.7634592 ,  9.09501133, 12.32294097, ..., 28.16782971,\n",
       "        31.32014171, 34.47048833],\n",
       "       ...,\n",
       "       [        nan,         nan,         nan, ...,         nan,\n",
       "                nan,         nan],\n",
       "       [        nan,         nan,         nan, ...,         nan,\n",
       "                nan,         nan],\n",
       "       [        nan,         nan,         nan, ...,         nan,\n",
       "                nan,         nan]])"
      ]
     },
     "execution_count": 5,
     "metadata": {},
     "output_type": "execute_result"
    }
   ],
   "source": [
    "roots_li"
   ]
  },
  {
   "cell_type": "code",
   "execution_count": 4,
   "metadata": {},
   "outputs": [],
   "source": [
    "# R = 10 fm\n",
    "R  = 10 #* 1e-15\n",
    "#now we want to calculate the wavenumbers. we know the relation between the wavenumber and the roots of the besse function\n",
    "# j_l(k_il R) = 0.\n",
    "k_il = roots_li.T / R"
   ]
  },
  {
   "cell_type": "code",
   "execution_count": 5,
   "metadata": {},
   "outputs": [
    {
     "name": "stdout",
     "output_type": "stream",
     "text": [
      "1.9999588764792147\n",
      "1.9999588764792162\n"
     ]
    }
   ],
   "source": [
    "#now we want to check the orthogonality of the spherical bessel functions\n",
    "#we want to calculate the integral of j_l(k_il R) * j_l(k_il R) * r^2 dr from 0 to R\n",
    "#for this we use the trapezoidal rule\n",
    "#@nb.njit\n",
    "def trapz(func: callable, a, b, N: int ):\n",
    "    dr = (b-a)/N\n",
    "    r_i = a + np.arange(0,N) * dr\n",
    "    return (0.5 * func(a) + np.sum(func(r_i)) + 0.5 * func(b)) * dr\n",
    "#@nb.njit\n",
    "def trapz2(func: callable, a, b, N: int ):\n",
    "    \"trapzoidal rule with for loops\"\n",
    "    dr = (b-a)/N\n",
    "    r_i = a + np.arange(0,N) * dr\n",
    "    integral = 0\n",
    "    for i in range(N):\n",
    "        integral += func(r_i[i])\n",
    "    return (0.5 * func(a) + integral + 0.5 * func(b)) * dr\n",
    "    \n",
    "    \n",
    "#now we test it with a known function\n",
    "@nb.njit\n",
    "def f(x):\n",
    "    return np.sin(x)\n",
    "print(trapz(f,0,np.pi,200))\n",
    "print(trapz2(f,0,np.pi,200))\n",
    "#the known integral is 2\n"
   ]
  },
  {
   "cell_type": "markdown",
   "metadata": {},
   "source": [
    "Now we want to check the orthonormality of the spherical bessel-functions. We use the following integral:\n",
    "$$\n",
    "\\int_0^R j_l(k_{li} r) j_l(k_{lj} r) r^2 dr = \\delta_{ij} \\frac{1}{\\alpha_{ij}^2}\n",
    "$$\n",
    "with $\\alpha_{ij} = \\frac{1}{j_{l-1}(k_{jl R})} \\cdot \\sqrt{2/R^3}$\n",
    "\n"
   ]
  },
  {
   "cell_type": "code",
   "execution_count": 6,
   "metadata": {},
   "outputs": [
    {
     "name": "stdout",
     "output_type": "stream",
     "text": [
      "[[[5.06605918e+01 1.10943833e-15]\n",
      "  [1.10943833e-15 1.26651480e+01]]\n",
      "\n",
      " [[2.35952246e+01 3.93505595e-15]\n",
      "  [3.93505595e-15 8.24001300e+00]]]\n"
     ]
    }
   ],
   "source": [
    "@nb.jit(nopython=True)\n",
    "def integrand(r,i,j,l):\n",
    "    \"define the integrand for the orthogonality of the spherical bessel functions\"\n",
    "    return J_lx(l,k_il[i,l] * r) * J_lx(l,k_il[j,l] * r) * r**2\n",
    "\n",
    "#scipy implementation\n",
    "def integrand2(r,i,j,l):\n",
    "    \"define the integrand for the orthogonality of the spherical bessel functions with scipy.special\"\n",
    "    return sp.spherical_jn(l,k_il[i,l] * r) * sp.spherical_jn(l,k_il[j,l] * r) * r**2\n",
    "\n",
    "#now we want to calculate the integral for different l and j\n",
    "#we want to store the results in a matrix\n",
    "\n",
    "def create_integration_matrix(l_max,n_roots,scipy = False):\n",
    "    \"creates a matrix with the integrals of the spherical bessel functions defined above for every l and j\"\n",
    "    integral_lij = np.zeros((l_max,n_roots,n_roots))\n",
    "    if not scipy:\n",
    "        for l in range(l_max):\n",
    "            for i in range(n_roots):\n",
    "                for j in range(n_roots):\n",
    "                    @np.vectorize\n",
    "                    def func2(r):\n",
    "                        return integrand(r,i,j,l)\n",
    "                    integral_lij[l,i,j] = trapz(func2,0.1,R,1000)\n",
    "        return integral_lij\n",
    "    \n",
    "    else:\n",
    "        for l in range(l_max):\n",
    "            for i in range(n_roots):\n",
    "                for j in range(n_roots):\n",
    "                    @np.vectorize\n",
    "                    def func2(r):\n",
    "                        return integrand2(r,i,j,l)\n",
    "                    integral_lij[l,i,j] = trapz2(func2,0,R,1000)\n",
    "        return integral_lij\n",
    "    \n",
    "\n",
    "print(create_integration_matrix(2,2,scipy = True))"
   ]
  },
  {
   "cell_type": "code",
   "execution_count": 7,
   "metadata": {},
   "outputs": [
    {
     "name": "stdout",
     "output_type": "stream",
     "text": [
      "[[50.66059182 23.59522461]\n",
      " [12.66514796  8.240013  ]]\n",
      "[[50.66059182 23.59522461]\n",
      " [12.66514796  8.240013  ]]\n"
     ]
    }
   ],
   "source": [
    "#now we want to calculate the alpha matrix\n",
    "def calculate_alpha_matrix(n_roots,l_max, scipy = False):\n",
    "    \"calculates the alpha matrix for every l and j\"\n",
    "    alpha_ij = np.zeros((n_roots,l_max))\n",
    "    for i in range(0,n_roots):\n",
    "        alpha_ij[i,0] =  np.sqrt(2/R**3) * (i +1) * np.pi\n",
    "    for l in range(1,l_max):\n",
    "        for i in range(0,n_roots):\n",
    "            if not scipy:\n",
    "                alpha_ij[i,l] = 1 / J_lx(l-1,k_il[i,l] * R) * np.sqrt(2/R**3)\n",
    "            else:\n",
    "                alpha_ij[i,l] = 1/ sp.spherical_jn(l-1,k_il[i,l] * R) * np.sqrt(2/R**3)\n",
    "    return alpha_ij\n",
    "print(calculate_alpha_matrix(2,2,scipy = True)**-2)\n",
    "print(calculate_alpha_matrix(2,2,scipy = False)**-2)\n"
   ]
  },
  {
   "cell_type": "markdown",
   "metadata": {},
   "source": [
    "1.3) Now we want to diagonolize the matrix $A_{ij}$ = (i+j)/2 for N = 3,10,100 with the jacobi method.\n"
   ]
  },
  {
   "cell_type": "code",
   "execution_count": 8,
   "metadata": {},
   "outputs": [],
   "source": [
    "N = 3\n"
   ]
  },
  {
   "cell_type": "code",
   "execution_count": 9,
   "metadata": {},
   "outputs": [
    {
     "name": "stdout",
     "output_type": "stream",
     "text": [
      "[ True  True  True  True  True  True  True  True  True  True  True  True\n",
      "  True  True  True  True  True  True  True  True]\n",
      "[ True  True  True  True  True  True  True  True  True  True  True  True\n",
      "  True  True  True  True  True  True  True  True]\n"
     ]
    }
   ],
   "source": [
    "from jacobi_routine import jacobi_diagonalization, Jacobi\n",
    "from scipy.linalg import eigvalsh\n",
    "\n",
    "#jacobi_diagonalization = nb.njit(jacobi_diagonalization)\n",
    "\n",
    "N = 20\n",
    "def A_entry(i,j):\n",
    "    return (i+j)/2\n",
    "index_list = np.arange(1,N+1)\n",
    "A = A_entry(index_list[:,None],index_list[None,:])\n",
    "\n",
    "\n",
    "eigvals_jacobi = jacobi_diagonalization(A)[0]\n",
    "eigvals_scipy = eigvalsh(A)\n",
    "jac_routine = Jacobi(A)\n",
    "jac_routine.jacobi_diagonalization()\n",
    "eigvals_numerical_recipes = jac_routine.d\n",
    "\n",
    "\n",
    "\n",
    "print(np.isclose(np.sort(eigvals_jacobi),np.sort(eigvals_scipy)))\n",
    "print(np.isclose(np.sort(eigvals_scipy),np.sort(eigvals_numerical_recipes)))\n"
   ]
  },
  {
   "cell_type": "markdown",
   "metadata": {},
   "source": [
    "The easier jacobi method is failing for N> 27. The more advanced jacobi method from the numerical recipes book can handle bigger matricies easily."
   ]
  },
  {
   "cell_type": "markdown",
   "metadata": {},
   "source": [
    "1.4) Solve the schrödinger equation for the movement of a nucleus in an atomic nucleus. The radius of the box R = 10-20 fm. The mass of the nucleus is 939 MeV/c^2."
   ]
  },
  {
   "cell_type": "code",
   "execution_count": 10,
   "metadata": {},
   "outputs": [],
   "source": [
    "#The potential is given as V(r) = 1/2 * m * omega^2 * r^2 with hw = 14 eV\n",
    "ev = 1.602176634e-19 #J\n",
    "c = 299792458 #m/s\n",
    "@nb.jit(nopython=True)\n",
    "def V(r):\n",
    "    M = 938.2720813* 1e6 * ev / c**2\n",
    "    omega = 14 *1e6 * ev / h_bar\n",
    "    return 0.5 * omega**2 * r**2 * M\n",
    "# now we want to calculate  the matrix elements of the hamilton with the given potential.\n",
    "#H_mn = <m|H|n> = <m|T|n> + <m|V|n>\n",
    "#we know that <m|T|n> = 0 if m != n\n",
    "#and <m|T|n> = <i'l'm'|T|ilm> = d_ii' d_ll' d_mm' (h_q*c)^2/(2Mc^2)k_il^2 \n",
    "# first we calculate the matrix elements of the kinetic energy\n",
    "\n",
    "h_bar = 6.582119569e-16 * ev#eV*s \n",
    "c = 299792458 #m/s\n",
    "M = 938.2720813* 1e6 * ev / c**2\n"
   ]
  },
  {
   "cell_type": "code",
   "execution_count": 11,
   "metadata": {},
   "outputs": [],
   "source": [
    "r_0 = 10 * 1e-15 #m\n",
    "@nb.njit\n",
    "def integrand_scipy(r,i,i_bar,l):\n",
    "    return sp.spherical_jn(l,k_il[i_bar,l] * r) * sp.spherical_jn(l,k_il[i,l] * r) * r**2 *V(r)\n",
    "\n",
    "\n",
    "@nb.njit\n",
    "def integrand_V(r,i,i_bar,l):\n",
    "    return J_lx(l,k_il[i_bar,l] * r) * J_lx(l,k_il[i,l] * r) * r**2 *V(r)\n",
    "\n",
    "def length_matrix(l_max):\n",
    "    n_matricies = 0\n",
    "    for l in range(l_max+1):\n",
    "        n_matricies += (2*l + 1)\n",
    "    return n_matricies\n",
    "\n",
    "@nb.jit(nopython=True)\n",
    "def calculate_alpha(j,l):\n",
    "    if l == 0:\n",
    "        return np.sqrt(2/R**3) * (j+1) * np.pi\n",
    "    else:\n",
    "        return 1 / J_lx(l-1,k_il[j,l] * R) * np.sqrt(2/R**3)\n",
    "\n",
    "\n",
    "def calculate_single_V(l,n_roots):\n",
    "    matrix = np.zeros((n_roots,n_roots))\n",
    "    alpha_ii_bar = calculate_alpha_matrix(n_roots,l+1)\n",
    "    for i in range(n_roots):\n",
    "        for i_bar in range(n_roots):\n",
    "            @np.vectorize\n",
    "            def integrand(r):\n",
    "                return integrand_V(r,i,i_bar,l)\n",
    "            matrix[i,i_bar] = trapz(integrand,0.0001,R,100) * calculate_alpha(i,l) * calculate_alpha(i_bar,l)\n",
    "    return matrix\n",
    "@nb.jit(nopython=True)\n",
    "def calculate_single_T(l,n_roots):\n",
    "    matrix = np.zeros((n_roots,n_roots))\n",
    "    for i in range(n_roots):\n",
    "        matrix[i,i] = (h_bar * c)**2 / (2 * M * c**2) * k_il[i,l]**2 \n",
    "    return matrix\n",
    "\n",
    "\n",
    "def calculate_single_H(l,n_roots):\n",
    "    return calculate_single_T(l,n_roots) + calculate_single_V(l,n_roots)\n",
    "\n",
    "\n",
    "def calc_evs(l,n_roots):\n",
    "    # jac_routine = Jacobi(calculate_single_T(l,n_roots) + calculate_single_V(l,n_roots))\n",
    "    # jac_routine.jacobi_diagonalization()\n",
    "    # return jac_routine.d\n",
    "    jacobi_diag = nb.njit(jacobi_diagonalization)\n",
    "    return jacobi_diag(calculate_single_T(l,n_roots) + calculate_single_V(l,n_roots))[0]\n"
   ]
  },
  {
   "cell_type": "code",
   "execution_count": 12,
   "metadata": {},
   "outputs": [
    {
     "name": "stderr",
     "output_type": "stream",
     "text": [
      "/home/tobias/anaconda3/lib/python3.11/site-packages/numpy/lib/function_base.py:2412: RuntimeWarning: overflow encountered in integrand (vectorized)\n",
      "  outputs = ufunc(*inputs)\n",
      "/home/tobias/anaconda3/lib/python3.11/site-packages/numpy/lib/function_base.py:2412: RuntimeWarning: invalid value encountered in integrand (vectorized)\n",
      "  outputs = ufunc(*inputs)\n",
      "/home/tobias/anaconda3/lib/python3.11/site-packages/numpy/lib/function_base.py:2412: RuntimeWarning: overflow encountered in integrand (vectorized)\n",
      "  outputs = ufunc(*inputs)\n",
      "/home/tobias/anaconda3/lib/python3.11/site-packages/numpy/lib/function_base.py:2412: RuntimeWarning: invalid value encountered in integrand (vectorized)\n",
      "  outputs = ufunc(*inputs)\n"
     ]
    },
    {
     "name": "stdout",
     "output_type": "stream",
     "text": [
      "(array([2.04142170e+19, 6.89890086e+18]), array([[ 0.73363844, -0.67954002],\n",
      "       [ 0.67954002,  0.73363844]]))\n",
      "[2.04142170e+19 6.89890086e+18]\n"
     ]
    }
   ],
   "source": [
    "print(jacobi_diagonalization(calculate_single_H(1,2)))\n",
    "print(calc_evs(1,2))"
   ]
  },
  {
   "cell_type": "code",
   "execution_count": 13,
   "metadata": {},
   "outputs": [
    {
     "name": "stderr",
     "output_type": "stream",
     "text": [
      "/home/tobias/anaconda3/lib/python3.11/site-packages/numpy/lib/function_base.py:2412: RuntimeWarning: overflow encountered in integrand (vectorized)\n",
      "  outputs = ufunc(*inputs)\n",
      "/home/tobias/anaconda3/lib/python3.11/site-packages/numpy/lib/function_base.py:2412: RuntimeWarning: overflow encountered in integrand (vectorized)\n",
      "  outputs = ufunc(*inputs)\n",
      "/home/tobias/anaconda3/lib/python3.11/site-packages/numpy/lib/function_base.py:2412: RuntimeWarning: invalid value encountered in integrand (vectorized)\n",
      "  outputs = ufunc(*inputs)\n",
      "/home/tobias/anaconda3/lib/python3.11/site-packages/numpy/lib/function_base.py:2412: RuntimeWarning: invalid value encountered in integrand (vectorized)\n",
      "  outputs = ufunc(*inputs)\n",
      "/home/tobias/anaconda3/lib/python3.11/site-packages/numpy/lib/function_base.py:2412: RuntimeWarning: overflow encountered in integrand (vectorized)\n",
      "  outputs = ufunc(*inputs)\n",
      "/home/tobias/anaconda3/lib/python3.11/site-packages/numpy/lib/function_base.py:2412: RuntimeWarning: invalid value encountered in integrand (vectorized)\n",
      "  outputs = ufunc(*inputs)\n",
      "/home/tobias/anaconda3/lib/python3.11/site-packages/numpy/lib/function_base.py:2412: RuntimeWarning: overflow encountered in integrand (vectorized)\n",
      "  outputs = ufunc(*inputs)\n",
      "/home/tobias/anaconda3/lib/python3.11/site-packages/numpy/lib/function_base.py:2412: RuntimeWarning: invalid value encountered in integrand (vectorized)\n",
      "  outputs = ufunc(*inputs)\n",
      "/home/tobias/anaconda3/lib/python3.11/site-packages/numpy/lib/function_base.py:2412: RuntimeWarning: overflow encountered in integrand (vectorized)\n",
      "  outputs = ufunc(*inputs)\n",
      "/home/tobias/anaconda3/lib/python3.11/site-packages/numpy/lib/function_base.py:2412: RuntimeWarning: overflow encountered in integrand (vectorized)\n",
      "  outputs = ufunc(*inputs)\n",
      "/home/tobias/anaconda3/lib/python3.11/site-packages/numpy/lib/function_base.py:2412: RuntimeWarning: invalid value encountered in integrand (vectorized)\n",
      "  outputs = ufunc(*inputs)\n",
      "/home/tobias/anaconda3/lib/python3.11/site-packages/numpy/lib/function_base.py:2412: RuntimeWarning: invalid value encountered in integrand (vectorized)\n",
      "  outputs = ufunc(*inputs)\n",
      "/home/tobias/anaconda3/lib/python3.11/site-packages/numpy/lib/function_base.py:2412: RuntimeWarning: overflow encountered in integrand (vectorized)\n",
      "  outputs = ufunc(*inputs)\n",
      "/home/tobias/anaconda3/lib/python3.11/site-packages/numpy/lib/function_base.py:2412: RuntimeWarning: invalid value encountered in integrand (vectorized)\n",
      "  outputs = ufunc(*inputs)\n",
      "/home/tobias/anaconda3/lib/python3.11/site-packages/numpy/lib/function_base.py:2412: RuntimeWarning: overflow encountered in integrand (vectorized)\n",
      "  outputs = ufunc(*inputs)\n",
      "/home/tobias/anaconda3/lib/python3.11/site-packages/numpy/lib/function_base.py:2412: RuntimeWarning: invalid value encountered in integrand (vectorized)\n",
      "  outputs = ufunc(*inputs)\n",
      "/home/tobias/anaconda3/lib/python3.11/site-packages/numpy/lib/function_base.py:2412: RuntimeWarning: overflow encountered in integrand (vectorized)\n",
      "  outputs = ufunc(*inputs)\n",
      "/home/tobias/anaconda3/lib/python3.11/site-packages/numpy/lib/function_base.py:2412: RuntimeWarning: invalid value encountered in integrand (vectorized)\n",
      "  outputs = ufunc(*inputs)\n",
      "/home/tobias/anaconda3/lib/python3.11/site-packages/numpy/lib/function_base.py:2412: RuntimeWarning: overflow encountered in integrand (vectorized)\n",
      "  outputs = ufunc(*inputs)\n",
      "/home/tobias/anaconda3/lib/python3.11/site-packages/numpy/lib/function_base.py:2412: RuntimeWarning: invalid value encountered in integrand (vectorized)\n",
      "  outputs = ufunc(*inputs)\n",
      "/home/tobias/anaconda3/lib/python3.11/site-packages/numpy/lib/function_base.py:2412: RuntimeWarning: overflow encountered in integrand (vectorized)\n",
      "  outputs = ufunc(*inputs)\n",
      "/home/tobias/anaconda3/lib/python3.11/site-packages/numpy/lib/function_base.py:2412: RuntimeWarning: invalid value encountered in integrand (vectorized)\n",
      "  outputs = ufunc(*inputs)\n"
     ]
    },
    {
     "ename": "ZeroDivisionError",
     "evalue": "float division by zero",
     "output_type": "error",
     "traceback": [
      "\u001b[0;31m---------------------------------------------------------------------------\u001b[0m",
      "\u001b[0;31m_RemoteTraceback\u001b[0m                          Traceback (most recent call last)",
      "\u001b[0;31m_RemoteTraceback\u001b[0m: \n\"\"\"\nTraceback (most recent call last):\n  File \"/home/tobias/anaconda3/lib/python3.11/site-packages/joblib/externals/loky/process_executor.py\", line 428, in _process_worker\n    r = call_item()\n        ^^^^^^^^^^^\n  File \"/home/tobias/anaconda3/lib/python3.11/site-packages/joblib/externals/loky/process_executor.py\", line 275, in __call__\n    return self.fn(*self.args, **self.kwargs)\n           ^^^^^^^^^^^^^^^^^^^^^^^^^^^^^^^^^^\n  File \"/home/tobias/anaconda3/lib/python3.11/site-packages/joblib/_parallel_backends.py\", line 620, in __call__\n    return self.func(*args, **kwargs)\n           ^^^^^^^^^^^^^^^^^^^^^^^^^^\n  File \"/home/tobias/anaconda3/lib/python3.11/site-packages/joblib/parallel.py\", line 288, in __call__\n    return [func(*args, **kwargs)\n           ^^^^^^^^^^^^^^^^^^^^^^\n  File \"/home/tobias/anaconda3/lib/python3.11/site-packages/joblib/parallel.py\", line 288, in <listcomp>\n    return [func(*args, **kwargs)\n            ^^^^^^^^^^^^^^^^^^^^^\n  File \"/tmp/ipykernel_33338/356109168.py\", line 52, in calc_evs\n  File \"/tmp/ipykernel_33338/356109168.py\", line 27, in calculate_single_V\n  File \"/tmp/ipykernel_33338/660054511.py\", line 10, in calculate_alpha_matrix\nZeroDivisionError: float division by zero\n\"\"\"",
      "\nThe above exception was the direct cause of the following exception:\n",
      "\u001b[0;31mZeroDivisionError\u001b[0m                         Traceback (most recent call last)",
      "\u001b[1;32m/home/tobias/code/ComputationalPhysics_VO_code/main.ipynb Cell 18\u001b[0m line \u001b[0;36m8\n\u001b[1;32m      <a href='vscode-notebook-cell:/home/tobias/code/ComputationalPhysics_VO_code/main.ipynb#X22sZmlsZQ%3D%3D?line=4'>5</a>\u001b[0m n_roots \u001b[39m=\u001b[39m \u001b[39m100\u001b[39m\n\u001b[1;32m      <a href='vscode-notebook-cell:/home/tobias/code/ComputationalPhysics_VO_code/main.ipynb#X22sZmlsZQ%3D%3D?line=6'>7</a>\u001b[0m num_cores \u001b[39m=\u001b[39m multiprocessing\u001b[39m.\u001b[39mcpu_count()\n\u001b[0;32m----> <a href='vscode-notebook-cell:/home/tobias/code/ComputationalPhysics_VO_code/main.ipynb#X22sZmlsZQ%3D%3D?line=7'>8</a>\u001b[0m evs \u001b[39m=\u001b[39m Parallel(n_jobs\u001b[39m=\u001b[39mnum_cores)(delayed(calc_evs)(l,n_roots) \u001b[39mfor\u001b[39;00m l \u001b[39min\u001b[39;00m \u001b[39mrange\u001b[39m(l_max))\n",
      "File \u001b[0;32m~/anaconda3/lib/python3.11/site-packages/joblib/parallel.py:1098\u001b[0m, in \u001b[0;36mParallel.__call__\u001b[0;34m(self, iterable)\u001b[0m\n\u001b[1;32m   1095\u001b[0m     \u001b[39mself\u001b[39m\u001b[39m.\u001b[39m_iterating \u001b[39m=\u001b[39m \u001b[39mFalse\u001b[39;00m\n\u001b[1;32m   1097\u001b[0m \u001b[39mwith\u001b[39;00m \u001b[39mself\u001b[39m\u001b[39m.\u001b[39m_backend\u001b[39m.\u001b[39mretrieval_context():\n\u001b[0;32m-> 1098\u001b[0m     \u001b[39mself\u001b[39m\u001b[39m.\u001b[39mretrieve()\n\u001b[1;32m   1099\u001b[0m \u001b[39m# Make sure that we get a last message telling us we are done\u001b[39;00m\n\u001b[1;32m   1100\u001b[0m elapsed_time \u001b[39m=\u001b[39m time\u001b[39m.\u001b[39mtime() \u001b[39m-\u001b[39m \u001b[39mself\u001b[39m\u001b[39m.\u001b[39m_start_time\n",
      "File \u001b[0;32m~/anaconda3/lib/python3.11/site-packages/joblib/parallel.py:975\u001b[0m, in \u001b[0;36mParallel.retrieve\u001b[0;34m(self)\u001b[0m\n\u001b[1;32m    973\u001b[0m \u001b[39mtry\u001b[39;00m:\n\u001b[1;32m    974\u001b[0m     \u001b[39mif\u001b[39;00m \u001b[39mgetattr\u001b[39m(\u001b[39mself\u001b[39m\u001b[39m.\u001b[39m_backend, \u001b[39m'\u001b[39m\u001b[39msupports_timeout\u001b[39m\u001b[39m'\u001b[39m, \u001b[39mFalse\u001b[39;00m):\n\u001b[0;32m--> 975\u001b[0m         \u001b[39mself\u001b[39m\u001b[39m.\u001b[39m_output\u001b[39m.\u001b[39mextend(job\u001b[39m.\u001b[39mget(timeout\u001b[39m=\u001b[39m\u001b[39mself\u001b[39m\u001b[39m.\u001b[39mtimeout))\n\u001b[1;32m    976\u001b[0m     \u001b[39melse\u001b[39;00m:\n\u001b[1;32m    977\u001b[0m         \u001b[39mself\u001b[39m\u001b[39m.\u001b[39m_output\u001b[39m.\u001b[39mextend(job\u001b[39m.\u001b[39mget())\n",
      "File \u001b[0;32m~/anaconda3/lib/python3.11/site-packages/joblib/_parallel_backends.py:567\u001b[0m, in \u001b[0;36mLokyBackend.wrap_future_result\u001b[0;34m(future, timeout)\u001b[0m\n\u001b[1;32m    564\u001b[0m \u001b[39m\u001b[39m\u001b[39m\"\"\"Wrapper for Future.result to implement the same behaviour as\u001b[39;00m\n\u001b[1;32m    565\u001b[0m \u001b[39mAsyncResults.get from multiprocessing.\"\"\"\u001b[39;00m\n\u001b[1;32m    566\u001b[0m \u001b[39mtry\u001b[39;00m:\n\u001b[0;32m--> 567\u001b[0m     \u001b[39mreturn\u001b[39;00m future\u001b[39m.\u001b[39mresult(timeout\u001b[39m=\u001b[39mtimeout)\n\u001b[1;32m    568\u001b[0m \u001b[39mexcept\u001b[39;00m CfTimeoutError \u001b[39mas\u001b[39;00m e:\n\u001b[1;32m    569\u001b[0m     \u001b[39mraise\u001b[39;00m \u001b[39mTimeoutError\u001b[39;00m \u001b[39mfrom\u001b[39;00m \u001b[39me\u001b[39;00m\n",
      "File \u001b[0;32m~/anaconda3/lib/python3.11/concurrent/futures/_base.py:449\u001b[0m, in \u001b[0;36mFuture.result\u001b[0;34m(self, timeout)\u001b[0m\n\u001b[1;32m    447\u001b[0m     \u001b[39mraise\u001b[39;00m CancelledError()\n\u001b[1;32m    448\u001b[0m \u001b[39melif\u001b[39;00m \u001b[39mself\u001b[39m\u001b[39m.\u001b[39m_state \u001b[39m==\u001b[39m FINISHED:\n\u001b[0;32m--> 449\u001b[0m     \u001b[39mreturn\u001b[39;00m \u001b[39mself\u001b[39m\u001b[39m.\u001b[39m__get_result()\n\u001b[1;32m    451\u001b[0m \u001b[39mself\u001b[39m\u001b[39m.\u001b[39m_condition\u001b[39m.\u001b[39mwait(timeout)\n\u001b[1;32m    453\u001b[0m \u001b[39mif\u001b[39;00m \u001b[39mself\u001b[39m\u001b[39m.\u001b[39m_state \u001b[39min\u001b[39;00m [CANCELLED, CANCELLED_AND_NOTIFIED]:\n",
      "File \u001b[0;32m~/anaconda3/lib/python3.11/concurrent/futures/_base.py:401\u001b[0m, in \u001b[0;36mFuture.__get_result\u001b[0;34m(self)\u001b[0m\n\u001b[1;32m    399\u001b[0m \u001b[39mif\u001b[39;00m \u001b[39mself\u001b[39m\u001b[39m.\u001b[39m_exception:\n\u001b[1;32m    400\u001b[0m     \u001b[39mtry\u001b[39;00m:\n\u001b[0;32m--> 401\u001b[0m         \u001b[39mraise\u001b[39;00m \u001b[39mself\u001b[39m\u001b[39m.\u001b[39m_exception\n\u001b[1;32m    402\u001b[0m     \u001b[39mfinally\u001b[39;00m:\n\u001b[1;32m    403\u001b[0m         \u001b[39m# Break a reference cycle with the exception in self._exception\u001b[39;00m\n\u001b[1;32m    404\u001b[0m         \u001b[39mself\u001b[39m \u001b[39m=\u001b[39m \u001b[39mNone\u001b[39;00m\n",
      "\u001b[0;31mZeroDivisionError\u001b[0m: float division by zero"
     ]
    }
   ],
   "source": [
    "from joblib import Parallel, delayed\n",
    "import multiprocessing\n",
    "\n",
    "l_max = 100\n",
    "n_roots = 100\n",
    "\n",
    "num_cores = multiprocessing.cpu_count()\n",
    "evs = Parallel(n_jobs=num_cores)(delayed(calc_evs)(l,n_roots) for l in range(l_max))\n",
    "\n",
    "\n"
   ]
  },
  {
   "cell_type": "code",
   "execution_count": null,
   "metadata": {},
   "outputs": [
    {
     "name": "stdout",
     "output_type": "stream",
     "text": [
      "(100, 100)\n",
      "l = 0 first 3 eigenvalues\n",
      " [nan nan nan]\n"
     ]
    }
   ],
   "source": [
    "evs = np.array(evs)\n",
    "print(evs.shape)\n",
    "#every row is a l and every column is the n_th eigenvalue\n",
    "print(\"l = 0 first 3 eigenvalues\\n\",evs[0,:3])\n"
   ]
  },
  {
   "cell_type": "code",
   "execution_count": null,
   "metadata": {},
   "outputs": [
    {
     "name": "stdout",
     "output_type": "stream",
     "text": [
      "[[3.36457093e-12 5.60761822e-12 7.85066551e-12]\n",
      " [7.85066551e-12 1.00937128e-11 1.23367601e-11]\n",
      " [1.23367601e-11 1.45798074e-11 1.68228547e-11]]\n"
     ]
    }
   ],
   "source": [
    "l_max = 2+1\n",
    "n_roots = 3\n",
    "exact_ev = np.zeros((n_roots,l_max))\n",
    "eV = 1.602176634e-19\n",
    "for l in range(l_max):\n",
    "    for n in range(n_roots):\n",
    "        exact_ev[n,l] = (2 * n + l + 3/2) * 14 * 1e6 * eV\n",
    "print(exact_ev)"
   ]
  },
  {
   "cell_type": "code",
   "execution_count": null,
   "metadata": {},
   "outputs": [],
   "source": [
    "def V_woods_saxon(r,R_0 = 3 * 1e-15):\n",
    "    \"returns the potential for a woods saxon potential with a = 1 fm and V_0 = 50 MeV\"\n",
    "    a = 0.5 * 1e-15 #fm\n",
    "    V_0 = - 40 * 1e6 #eV\n",
    "    return -V_0 / (1 + np.exp((r - R_0)/a))"
   ]
  }
 ],
 "metadata": {
  "kernelspec": {
   "display_name": "base",
   "language": "python",
   "name": "python3"
  },
  "language_info": {
   "codemirror_mode": {
    "name": "ipython",
    "version": 3
   },
   "file_extension": ".py",
   "mimetype": "text/x-python",
   "name": "python",
   "nbconvert_exporter": "python",
   "pygments_lexer": "ipython3",
   "version": "3.11.4"
  },
  "orig_nbformat": 4
 },
 "nbformat": 4,
 "nbformat_minor": 2
}
